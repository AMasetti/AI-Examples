{
 "cells": [
  {
   "attachments": {},
   "cell_type": "markdown",
   "metadata": {},
   "source": [
    "## Neural Network\n",
    "[![Open in Colab](https://colab.research.google.com/assets/colab-badge.svg)](https://colab.research.google.com/github/amasetti/AI-Portfolio-Examples/blob/master/2.%20Neural%20Network%20Mnist/main.ipynb)\n",
    "\n",
    "A neural network is a computational model inspired by the structure and function of biological neural networks. It consists of interconnected nodes, or artificial neurons, organized into layers. Each neuron receives input, applies a transformation function to produce an output, and passes it to the next layer, allowing the network to learn complex patterns and relationships from data through iterative training processes.\n"
   ]
  },
  {
   "cell_type": "code",
   "execution_count": 2,
   "metadata": {},
   "outputs": [],
   "source": [
    "import numpy as np\n",
    "import matplotlib.pyplot as plt\n",
    "from keras.layers import Dense, Flatten\n",
    "from keras.models import Sequential\n",
    "from keras.utils import to_categorical\n"
   ]
  },
  {
   "attachments": {},
   "cell_type": "markdown",
   "metadata": {},
   "source": [
    "## Define the Neural Network model"
   ]
  },
  {
   "cell_type": "code",
   "execution_count": 3,
   "metadata": {},
   "outputs": [
    {
     "name": "stdout",
     "output_type": "stream",
     "text": [
      "Model: \"sequential\"\n",
      "_________________________________________________________________\n",
      " Layer (type)                Output Shape              Param #   \n",
      "=================================================================\n",
      " flatten (Flatten)           (None, 784)               0         \n",
      "                                                                 \n",
      " dense (Dense)               (None, 5)                 3925      \n",
      "                                                                 \n",
      " dense_1 (Dense)             (None, 10)                60        \n",
      "                                                                 \n",
      "=================================================================\n",
      "Total params: 3985 (15.57 KB)\n",
      "Trainable params: 3985 (15.57 KB)\n",
      "Non-trainable params: 0 (0.00 Byte)\n",
      "_________________________________________________________________\n"
     ]
    }
   ],
   "source": [
    "\n",
    "model = Sequential()\n",
    "model.add(Flatten(input_shape=(28,28)))\n",
    "model.add(Dense(5, activation='sigmoid'))\n",
    "model.add(Dense(10, activation='softmax'))\n",
    "model.summary()"
   ]
  },
  {
   "attachments": {},
   "cell_type": "markdown",
   "metadata": {},
   "source": [
    "## Load MNIST handwritten digit data"
   ]
  },
  {
   "cell_type": "code",
   "execution_count": 5,
   "metadata": {},
   "outputs": [
    {
     "name": "stdout",
     "output_type": "stream",
     "text": [
      "(60000, 28, 28)\n",
      "(10000, 28, 28)\n"
     ]
    },
    {
     "data": {
      "image/png": "[encoded data removed]",
      "text/plain": [
       "<Figure size 1000x400 with 5 Axes>"
      ]
     },
     "metadata": {},
     "output_type": "display_data"
    }
   ],
   "source": [
    "from keras.datasets import mnist\n",
    "\n",
    "(X_train, y_train), (X_test, y_test) = mnist.load_data()\n",
    "print(X_train.shape)\n",
    "print(X_test.shape)\n",
    "\n",
    "fig, axes = plt.subplots(ncols=5, sharex=False, \n",
    "    sharey=True, figsize=(10, 4))\n",
    "c = 0\n",
    "for i in range(7, 12, 1):\n",
    "    axes[c].set_title(y_train[i])\n",
    "    axes[c].imshow(X_train[i], cmap='gray')\n",
    "    axes[c].get_xaxis().set_visible(False)\n",
    "    axes[c].get_yaxis().set_visible(False)\n",
    "    c+=1\n",
    "\n",
    "plt.show()"
   ]
  },
  {
   "attachments": {},
   "cell_type": "markdown",
   "metadata": {},
   "source": [
    "## How one-hot encoding works\n",
    "\n",
    "3 -> [ 0, 0, 0, 1, 0, 0, 0, 0, 0, 0]"
   ]
  },
  {
   "cell_type": "code",
   "execution_count": 18,
   "metadata": {},
   "outputs": [
    {
     "data": {
      "text/plain": [
       "array([0., 0., 0., 1., 0., 0., 0., 0., 0., 0.], dtype=float32)"
      ]
     },
     "execution_count": 18,
     "metadata": {},
     "output_type": "execute_result"
    }
   ],
   "source": [
    "to_categorical(3, num_classes=10)"
   ]
  },
  {
   "attachments": {},
   "cell_type": "markdown",
   "metadata": {},
   "source": [
    "## Convert y_train and y_test into one-hot format"
   ]
  },
  {
   "cell_type": "code",
   "execution_count": 6,
   "metadata": {},
   "outputs": [],
   "source": [
    "\n",
    "temp = []\n",
    "for i in range(len(y_train)):\n",
    "    temp.append(to_categorical(y_train[i], num_classes=10))\n",
    "y_train = np.array(temp)\n",
    "# Convert y_test into one-hot format\n",
    "temp = []\n",
    "for i in range(len(y_test)):    \n",
    "    temp.append(to_categorical(y_test[i], num_classes=10))\n",
    "y_test = np.array(temp)"
   ]
  },
  {
   "attachments": {},
   "cell_type": "markdown",
   "metadata": {},
   "source": [
    "## Train the model\n",
    "\n",
    "We'll use categorical_crossentropy as our loss function and the adam algorithm for optimization. The Adam optimizer is an adaptive optimization algorithm commonly used in machine learning and deep learning. It is an extension of the stochastic gradient descent (SGD) algorithm that combines ideas from other optimization methods to provide efficient and effective updates to the model parameters during training."
   ]
  },
  {
   "cell_type": "code",
   "execution_count": 7,
   "metadata": {},
   "outputs": [
    {
     "name": "stdout",
     "output_type": "stream",
     "text": [
      "Epoch 1/5\n",
      "1875/1875 [==============================] - 2s 630us/step - loss: 1.5788 - acc: 0.5523 - val_loss: 1.1087 - val_acc: 0.7079\n",
      "Epoch 2/5\n",
      "1875/1875 [==============================] - 1s 528us/step - loss: 1.0136 - acc: 0.7216 - val_loss: 0.8768 - val_acc: 0.7708\n",
      "Epoch 3/5\n",
      "1875/1875 [==============================] - 1s 538us/step - loss: 0.8610 - acc: 0.7584 - val_loss: 0.8110 - val_acc: 0.7657\n",
      "Epoch 4/5\n",
      "1875/1875 [==============================] - 1s 524us/step - loss: 0.8060 - acc: 0.7743 - val_loss: 0.7308 - val_acc: 0.7983\n",
      "Epoch 5/5\n",
      "1875/1875 [==============================] - 1s 523us/step - loss: 0.7713 - acc: 0.7794 - val_loss: 0.7021 - val_acc: 0.8033\n"
     ]
    },
    {
     "data": {
      "text/plain": [
       "<keras.src.callbacks.History at 0x28cb352d0>"
      ]
     },
     "execution_count": 7,
     "metadata": {},
     "output_type": "execute_result"
    }
   ],
   "source": [
    "model.compile(loss='categorical_crossentropy', optimizer='adam', metrics=['acc'])\n",
    "\n",
    "model.fit(X_train, y_train, epochs=5, validation_data=(X_test,y_test))"
   ]
  },
  {
   "attachments": {},
   "cell_type": "markdown",
   "metadata": {},
   "source": [
    "## Benchmarks\n",
    "- Precision: Precision is a metric in machine learning that measures the proportion of correctly predicted positive instances (true positives) out of all instances predicted as positive, providing an indication of the model's ability to avoid false positives.\n",
    "\n",
    "- Recall: Recall is a metric in machine learning that measures the proportion of correctly predicted positive instances (true positives) out of all actual positive instances, indicating the model's ability to identify all positive instances without missing any (minimizing false negatives).\n",
    "\n",
    "- F1-score: The F1-score is a single metric that combines precision and recall, providing a balanced measure of a model's performance by taking their harmonic mean, representing a trade-off between precision and recall.\n",
    "\n",
    "- Support: Support refers to the number of instances or observations in a given class or category, representing the frequency or distribution of that class within the dataset, which can influence the interpretation of performance metrics."
   ]
  },
  {
   "cell_type": "code",
   "execution_count": 9,
   "metadata": {},
   "outputs": [
    {
     "name": "stdout",
     "output_type": "stream",
     "text": [
      "313/313 [==============================] - 0s 341us/step\n",
      "Perceptron Accuracy: 80.33%\n",
      "              precision    recall  f1-score   support\n",
      "\n",
      "           0       0.91      0.93      0.92       962\n",
      "           1       0.96      0.89      0.93      1217\n",
      "           2       0.82      0.90      0.86       939\n",
      "           3       0.83      0.79      0.81      1068\n",
      "           4       0.93      0.70      0.80      1311\n",
      "           5       0.67      0.66      0.67       909\n",
      "           6       0.92      0.84      0.88      1050\n",
      "           7       0.63      0.93      0.75       701\n",
      "           8       0.61      0.74      0.67       801\n",
      "           9       0.71      0.69      0.70      1042\n",
      "\n",
      "   micro avg       0.80      0.80      0.80     10000\n",
      "   macro avg       0.80      0.81      0.80     10000\n",
      "weighted avg       0.82      0.80      0.81     10000\n",
      " samples avg       0.80      0.80      0.80     10000\n",
      "\n"
     ]
    }
   ],
   "source": [
    "from sklearn.metrics import accuracy_score, classification_report\n",
    "\n",
    "predictions = model.predict(X_test)\n",
    "predictions = np.argmax(predictions, axis=1)\n",
    "\n",
    "temp = []\n",
    "for i in range(len(predictions)):    \n",
    "    temp.append(to_categorical(predictions[i], num_classes=10))\n",
    "predictions = np.array(temp)\n",
    "\n",
    "acc = accuracy_score(predictions, y_test)\n",
    "report = classification_report(predictions, y_test, digits=2)\n",
    "\n",
    "print(f'Perceptron Accuracy: {acc*100}%')\n",
    "print(report)"
   ]
  },
  {
   "attachments": {},
   "cell_type": "markdown",
   "metadata": {},
   "source": [
    "## Inference"
   ]
  },
  {
   "cell_type": "code",
   "execution_count": 8,
   "metadata": {},
   "outputs": [
    {
     "name": "stdout",
     "output_type": "stream",
     "text": [
      "313/313 [==============================] - 0s 345us/step\n"
     ]
    },
    {
     "data": {
      "image/png": "[encoded data removed]",
      "text/plain": [
       "<Figure size 2000x400 with 10 Axes>"
      ]
     },
     "metadata": {},
     "output_type": "display_data"
    }
   ],
   "source": [
    "predictions = model.predict(X_test)\n",
    "predictions = np.argmax(predictions, axis=1)\n",
    "\n",
    "fig, axes = plt.subplots(ncols=10, sharex=False, sharey=True, figsize=(20, 4))\n",
    "\n",
    "c = 0\n",
    "for i in range(7, 17 ,1):\n",
    "    axes[c].set_title(predictions[i])\n",
    "    axes[c].imshow(X_test[i], cmap='gray')\n",
    "    axes[c].get_xaxis().set_visible(False)\n",
    "    axes[c].get_yaxis().set_visible(False)\n",
    "    c += 1\n",
    "plt.show()"
   ]
  },
  {
   "cell_type": "code",
   "execution_count": null,
   "metadata": {},
   "outputs": [],
   "source": []
  }
 ],
 "metadata": {
  "kernelspec": {
   "display_name": "Atlas",
   "language": "python",
   "name": "python3"
  },
  "language_info": {
   "codemirror_mode": {
    "name": "ipython",
    "version": 3
   },
   "file_extension": ".py",
   "mimetype": "text/x-python",
   "name": "python",
   "nbconvert_exporter": "python",
   "pygments_lexer": "ipython3",
   "version": "3.10.0"
  },
  "orig_nbformat": 4
 },
 "nbformat": 4,
 "nbformat_minor": 2
}
